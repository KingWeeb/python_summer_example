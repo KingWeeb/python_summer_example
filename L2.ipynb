{
 "cells": [
  {
   "cell_type": "markdown",
   "metadata": {},
   "source": [
    "Variables"
   ]
  },
  {
   "cell_type": "code",
   "execution_count": 2,
   "metadata": {},
   "outputs": [
    {
     "name": "stdout",
     "output_type": "stream",
     "text": [
      "648.56402\n"
     ]
    }
   ],
   "source": [
    "distance_to_london_miles = 403\n",
    "mile_to_km = 1.60934\n",
    "distance_to_london_km = distance_to_london_miles * mile_to_km\n",
    "print(distance_to_london_km)"
   ]
  },
  {
   "cell_type": "code",
   "execution_count": 3,
   "metadata": {},
   "outputs": [
    {
     "name": "stdout",
     "output_type": "stream",
     "text": [
      "42.19528546\n"
     ]
    }
   ],
   "source": [
    "marathon_distance_miles = 26.219\n",
    "maraton_distance_km = marathon_distance_miles * mile_to_km\n",
    "print(maraton_distance_km)"
   ]
  },
  {
   "cell_type": "markdown",
   "metadata": {},
   "source": [
    "Variables and Types"
   ]
  },
  {
   "cell_type": "markdown",
   "metadata": {},
   "source": [
    "Now try assigning each type of the 3 values into 3 different variables following the `snake_case` naming convention"
   ]
  },
  {
   "cell_type": "code",
   "execution_count": null,
   "metadata": {},
   "outputs": [],
   "source": []
  },
  {
   "cell_type": "markdown",
   "metadata": {},
   "source": [
    "`print()` out the 3 variables assigned."
   ]
  },
  {
   "cell_type": "code",
   "execution_count": null,
   "metadata": {},
   "outputs": [],
   "source": []
  },
  {
   "cell_type": "markdown",
   "metadata": {},
   "source": [
    "Type Casting  \n",
    "\n",
    "create an `integer variable` and a `string variable`, then cast the `integer variable` into a `string variable`, and concatenate them together  \n",
    "\n",
    "you would need to use `str()`"
   ]
  },
  {
   "cell_type": "code",
   "execution_count": null,
   "metadata": {},
   "outputs": [],
   "source": []
  },
  {
   "cell_type": "markdown",
   "metadata": {},
   "source": [
    "Arithemetic operations:  \n",
    "\n",
    "try out some of the arithmetic operators in the table, play around with them"
   ]
  },
  {
   "cell_type": "code",
   "execution_count": null,
   "metadata": {},
   "outputs": [],
   "source": []
  },
  {
   "cell_type": "markdown",
   "metadata": {},
   "source": [
    "Comparison operators  \n",
    "define a few variables of `same type`, then try using the comparison operatos on them, what do you find?"
   ]
  },
  {
   "cell_type": "code",
   "execution_count": null,
   "metadata": {},
   "outputs": [],
   "source": []
  },
  {
   "cell_type": "markdown",
   "metadata": {},
   "source": [
    "try to compare 2 emojis using any of the relational operators"
   ]
  },
  {
   "cell_type": "code",
   "execution_count": 19,
   "metadata": {},
   "outputs": [
    {
     "name": "stdout",
     "output_type": "stream",
     "text": [
      "🙃\n",
      "🤣\n",
      "🤩\n"
     ]
    }
   ],
   "source": [
    "print(\"\\U0001F643\")\n",
    "print(\"\\U0001F923\")\n",
    "print(\"\\U0001F929\")"
   ]
  },
  {
   "cell_type": "code",
   "execution_count": 20,
   "metadata": {},
   "outputs": [
    {
     "data": {
      "text/plain": [
       "False"
      ]
     },
     "execution_count": 20,
     "metadata": {},
     "output_type": "execute_result"
    }
   ],
   "source": [
    "\"\\U0001F643\" > \"\\U0001F923\""
   ]
  },
  {
   "cell_type": "markdown",
   "metadata": {},
   "source": [
    "Logical Operators"
   ]
  },
  {
   "cell_type": "code",
   "execution_count": 21,
   "metadata": {},
   "outputs": [
    {
     "data": {
      "text/plain": [
       "True"
      ]
     },
     "execution_count": 21,
     "metadata": {},
     "output_type": "execute_result"
    }
   ],
   "source": [
    "True and True"
   ]
  },
  {
   "cell_type": "code",
   "execution_count": 22,
   "metadata": {},
   "outputs": [
    {
     "data": {
      "text/plain": [
       "False"
      ]
     },
     "execution_count": 22,
     "metadata": {},
     "output_type": "execute_result"
    }
   ],
   "source": [
    "True and False"
   ]
  },
  {
   "cell_type": "code",
   "execution_count": 23,
   "metadata": {},
   "outputs": [
    {
     "data": {
      "text/plain": [
       "True"
      ]
     },
     "execution_count": 23,
     "metadata": {},
     "output_type": "execute_result"
    }
   ],
   "source": [
    "True or False"
   ]
  },
  {
   "cell_type": "code",
   "execution_count": 24,
   "metadata": {},
   "outputs": [
    {
     "data": {
      "text/plain": [
       "False"
      ]
     },
     "execution_count": 24,
     "metadata": {},
     "output_type": "execute_result"
    }
   ],
   "source": [
    "False or False"
   ]
  },
  {
   "cell_type": "markdown",
   "metadata": {},
   "source": [
    "***Strings***  \n",
    "\n",
    "create a string type variable and print out the data type of it below"
   ]
  },
  {
   "cell_type": "code",
   "execution_count": null,
   "metadata": {},
   "outputs": [],
   "source": [
    "#print(type(string_variable_you_created))"
   ]
  },
  {
   "cell_type": "code",
   "execution_count": null,
   "metadata": {
    "id": "YCHzCIDqZpSh"
   },
   "outputs": [],
   "source": [
    "import random\n",
    "random.randint(0,5)"
   ]
  },
  {
   "cell_type": "code",
   "execution_count": null,
   "metadata": {
    "id": "wB7ZJUpSZpmw"
   },
   "outputs": [],
   "source": [
    "random.randint(0,5)"
   ]
  },
  {
   "cell_type": "code",
   "execution_count": null,
   "metadata": {
    "id": "VKppQXzVZpz5"
   },
   "outputs": [],
   "source": [
    "import random\n",
    "random.random() "
   ]
  },
  {
   "cell_type": "code",
   "execution_count": null,
   "metadata": {
    "id": "CnE6L3TJZp-n"
   },
   "outputs": [],
   "source": [
    "import random\n",
    "random.random() * 100"
   ]
  },
  {
   "cell_type": "code",
   "execution_count": null,
   "metadata": {
    "id": "hjYoa8SbZwZt"
   },
   "outputs": [],
   "source": [
    "random.choice( ['red', 'black', 'green'] )"
   ]
  },
  {
   "cell_type": "code",
   "execution_count": null,
   "metadata": {
    "id": "4IdHT52pZwjF"
   },
   "outputs": [],
   "source": [
    "random.choice( ['Paper', 'Rock', 'Scissors'] )"
   ]
  },
  {
   "cell_type": "code",
   "execution_count": null,
   "metadata": {
    "id": "S47VadIuZwq5"
   },
   "outputs": [],
   "source": [
    "import random\n",
    "myList = [2, 109, False, 10, \"Lorem\", 482, \"Ipsum\"]\n",
    "random.choice(myList)"
   ]
  },
  {
   "cell_type": "code",
   "execution_count": null,
   "metadata": {
    "id": "7ZatDNmEZw1i"
   },
   "outputs": [],
   "source": [
    "#import the module \"random\" here \n",
    "#generate a random number from 0 to 2\n",
    "#create a new variable and store the generated number \n",
    "#print out the stored random number using print()\n",
    "\n",
    "import random\n",
    "x = random.randint(0,2)\n",
    "print(x) "
   ]
  },
  {
   "cell_type": "markdown",
   "metadata": {
    "id": "uctMz4W1XTW9"
   },
   "source": [
    "Random Number Generator"
   ]
  },
  {
   "cell_type": "code",
   "execution_count": null,
   "metadata": {
    "id": "DEbTWfpjXSbq"
   },
   "outputs": [],
   "source": [
    "#import the module \"random\" here\n",
    "\n",
    "\n",
    "#generate a random number from 0 to 2, including 0, 1, 2\n",
    "\n",
    "\n",
    "#create a new variable and store the generated number\n",
    "\n",
    "\n",
    "#print out the stored random number using print()"
   ]
  },
  {
   "cell_type": "markdown",
   "metadata": {
    "id": "EHM0PL3pYzRN"
   },
   "source": [
    "now create your own random number Generator that generates a random number between 5 and 85"
   ]
  },
  {
   "cell_type": "code",
   "execution_count": null,
   "metadata": {
    "id": "AAb7xYdlYzqH"
   },
   "outputs": [],
   "source": [
    "#import the module \"random\" here\n",
    "\n",
    "\n",
    "#generate a random number from 5 to 85\n",
    "\n",
    "\n",
    "#create a new variable and store the generated number\n",
    "\n",
    "\n",
    "#print out the stored random number using print()"
   ]
  }
 ],
 "metadata": {
  "kernelspec": {
   "display_name": "Python 3.9.12 ('base')",
   "language": "python",
   "name": "python3"
  },
  "language_info": {
   "codemirror_mode": {
    "name": "ipython",
    "version": 3
   },
   "file_extension": ".py",
   "mimetype": "text/x-python",
   "name": "python",
   "nbconvert_exporter": "python",
   "pygments_lexer": "ipython3",
   "version": "3.9.12"
  },
  "orig_nbformat": 4,
  "vscode": {
   "interpreter": {
    "hash": "f5b25e052352d0ab52b06d8a00db09f6214527cdbdbadfe2118ce5f5b02aba80"
   }
  }
 },
 "nbformat": 4,
 "nbformat_minor": 2
}
