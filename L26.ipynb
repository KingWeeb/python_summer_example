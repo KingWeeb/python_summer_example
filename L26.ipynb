{
 "cells": [
  {
   "cell_type": "code",
   "execution_count": null,
   "metadata": {},
   "outputs": [],
   "source": [
    "class Car:\n",
    "    \n",
    "    def __init__(self):\n",
    "        pass"
   ]
  },
  {
   "cell_type": "code",
   "execution_count": 16,
   "metadata": {},
   "outputs": [],
   "source": [
    "class Car:\n",
    "\n",
    "    def __init__(self, color, top_speed):\n",
    "        self.color = color\n",
    "        self.top_speed = top_speed\n",
    "        "
   ]
  },
  {
   "cell_type": "code",
   "execution_count": 17,
   "metadata": {},
   "outputs": [
    {
     "data": {
      "text/plain": [
       "'red'"
      ]
     },
     "execution_count": 17,
     "metadata": {},
     "output_type": "execute_result"
    }
   ],
   "source": [
    "car_instance_1 = Car('red', 100)\n",
    "car_instance_1.color"
   ]
  },
  {
   "cell_type": "code",
   "execution_count": 7,
   "metadata": {},
   "outputs": [],
   "source": [
    "class Car:\n",
    "\n",
    "    class_attribute_1_number_of_wheels = 4\n",
    "    class_attribute_2_has_doors = True\n",
    "    class_attribute_3_can_move = True\n",
    "\n",
    "\n",
    "    def __init__(self, color, brand, model, year, price):\n",
    "        self.instance_attribute_color = color\n",
    "        self.instance_attribute_brand = brand\n",
    "        self.instance_attribute_model = model\n",
    "        self.instance_attribute_year = year\n",
    "        self.instance_attribute_price = price\n"
   ]
  },
  {
   "cell_type": "code",
   "execution_count": 8,
   "metadata": {},
   "outputs": [],
   "source": [
    "truck = Car(color=\"blue\", brand=\"Ford\", model=\"F-150\", year=2018, price=10000)"
   ]
  },
  {
   "cell_type": "code",
   "execution_count": 9,
   "metadata": {},
   "outputs": [
    {
     "data": {
      "text/plain": [
       "'blue'"
      ]
     },
     "execution_count": 9,
     "metadata": {},
     "output_type": "execute_result"
    }
   ],
   "source": [
    "truck.instance_attribute_color"
   ]
  },
  {
   "cell_type": "code",
   "execution_count": 11,
   "metadata": {},
   "outputs": [],
   "source": [
    "mercedes = Car(color=\"black\", brand=\"Mercedes\", model=\"C-Class\", year=2020, price=5)\n",
    "ford_truck = Car(color=\"red\", brand=\"Ford\", model=\"F-150\", year=2019, price=2)\n",
    "toyota = Car(color=\"white\", brand=\"Toyota\", model=\"Corolla\", year=2011, price=3)\n",
    "tank = Car(color=\"green\", brand=\"military\", model=\"M1A2\", year=2015, price=500)"
   ]
  },
  {
   "cell_type": "code",
   "execution_count": 13,
   "metadata": {},
   "outputs": [
    {
     "name": "stdout",
     "output_type": "stream",
     "text": [
      "5\n",
      "2\n",
      "3\n",
      "500\n"
     ]
    }
   ],
   "source": [
    "print(mercedes.instance_attribute_price)\n",
    "print(ford_truck.instance_attribute_price)\n",
    "print(toyota.instance_attribute_price)\n",
    "print(tank.instance_attribute_price)"
   ]
  },
  {
   "cell_type": "code",
   "execution_count": 14,
   "metadata": {},
   "outputs": [
    {
     "name": "stdout",
     "output_type": "stream",
     "text": [
      "True\n",
      "True\n",
      "True\n",
      "True\n"
     ]
    }
   ],
   "source": [
    "print(mercedes.class_attribute_2_has_doors)\n",
    "print(ford_truck.class_attribute_2_has_doors)\n",
    "print(toyota.class_attribute_2_has_doors)\n",
    "print(tank.class_attribute_2_has_doors)"
   ]
  },
  {
   "cell_type": "code",
   "execution_count": 15,
   "metadata": {},
   "outputs": [
    {
     "name": "stdout",
     "output_type": "stream",
     "text": [
      "4\n",
      "4\n",
      "4\n",
      "4\n"
     ]
    }
   ],
   "source": [
    "print(mercedes.class_attribute_1_number_of_wheels)\n",
    "print(ford_truck.class_attribute_1_number_of_wheels)\n",
    "print(toyota.class_attribute_1_number_of_wheels)\n",
    "print(tank.class_attribute_1_number_of_wheels)"
   ]
  }
 ],
 "metadata": {
  "kernelspec": {
   "display_name": "Python 3.9.12 ('base')",
   "language": "python",
   "name": "python3"
  },
  "language_info": {
   "codemirror_mode": {
    "name": "ipython",
    "version": 3
   },
   "file_extension": ".py",
   "mimetype": "text/x-python",
   "name": "python",
   "nbconvert_exporter": "python",
   "pygments_lexer": "ipython3",
   "version": "3.9.12"
  },
  "orig_nbformat": 4,
  "vscode": {
   "interpreter": {
    "hash": "a6efb1b5c0b24a2e2c6a7775ceb8b8e57e283a2a8ce9c098a6d10d53a2042136"
   }
  }
 },
 "nbformat": 4,
 "nbformat_minor": 2
}
