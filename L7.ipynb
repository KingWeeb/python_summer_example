{
 "cells": [
  {
   "cell_type": "markdown",
   "metadata": {},
   "source": [
    "Review of Variables, types and assignment operator"
   ]
  },
  {
   "cell_type": "markdown",
   "metadata": {},
   "source": [
    "what does `=` mean?"
   ]
  },
  {
   "cell_type": "markdown",
   "metadata": {},
   "source": [
    "use `=` to `assign values` to a `variable`"
   ]
  },
  {
   "cell_type": "code",
   "execution_count": null,
   "metadata": {},
   "outputs": [],
   "source": [
    "variable = \"some value\"\n",
    "print(variable)\n",
    "print(\"some value\")"
   ]
  },
  {
   "cell_type": "code",
   "execution_count": null,
   "metadata": {},
   "outputs": [],
   "source": [
    "integer_variable = 2\n",
    "print(integer_variable)"
   ]
  },
  {
   "cell_type": "code",
   "execution_count": null,
   "metadata": {},
   "outputs": [],
   "source": [
    "string_variable = \"a string value\""
   ]
  },
  {
   "cell_type": "code",
   "execution_count": null,
   "metadata": {},
   "outputs": [],
   "source": [
    "boolean_variable = True"
   ]
  },
  {
   "cell_type": "markdown",
   "metadata": {},
   "source": [
    "type casting i.e. `changing variable type from one to another`"
   ]
  },
  {
   "cell_type": "code",
   "execution_count": null,
   "metadata": {},
   "outputs": [],
   "source": [
    "str(integer_variable)"
   ]
  },
  {
   "cell_type": "code",
   "execution_count": null,
   "metadata": {},
   "outputs": [],
   "source": [
    "int(\"2\")"
   ]
  },
  {
   "cell_type": "markdown",
   "metadata": {},
   "source": [
    "***Determining if a list Is Empty***  \n",
    "\n",
    "Can use a list as a condition to determine if it’s empty—`non-empty is True` and `empty is False`"
   ]
  },
  {
   "cell_type": "code",
   "execution_count": null,
   "metadata": {},
   "outputs": [],
   "source": [
    "list1 = "
   ]
  },
  {
   "cell_type": "code",
   "execution_count": null,
   "metadata": {},
   "outputs": [],
   "source": [
    "if list1:\n",
    "    print(\"not empty\")\n",
    "else:\n",
    "    print(\"empty\")"
   ]
  },
  {
   "cell_type": "code",
   "execution_count": null,
   "metadata": {},
   "outputs": [],
   "source": [
    "list1.clear()"
   ]
  },
  {
   "cell_type": "code",
   "execution_count": null,
   "metadata": {},
   "outputs": [],
   "source": [
    "if list1:\n",
    "    print(\"not empty\")\n",
    "else:\n",
    "    print(\"empty\")"
   ]
  },
  {
   "cell_type": "markdown",
   "metadata": {},
   "source": [
    "***Determining if a Dictionary Is Empty***  \n",
    "\n",
    "Can use a dictionary as a condition to determine if it’s empty—`non-empty is True` and `empty is False`"
   ]
  },
  {
   "cell_type": "code",
   "execution_count": null,
   "metadata": {},
   "outputs": [],
   "source": [
    "dct = {\"one\" : 1, \"two\" : 2}"
   ]
  },
  {
   "cell_type": "code",
   "execution_count": null,
   "metadata": {},
   "outputs": [],
   "source": [
    "if dct:\n",
    "    print(\"not empty\")\n",
    "else:\n",
    "    print(\"empty\")"
   ]
  },
  {
   "cell_type": "code",
   "execution_count": null,
   "metadata": {},
   "outputs": [],
   "source": [
    "dct.clear()"
   ]
  },
  {
   "cell_type": "code",
   "execution_count": null,
   "metadata": {},
   "outputs": [],
   "source": [
    "if dct:\n",
    "    print(\"not empty\")\n",
    "else:\n",
    "    print(\"empty\")"
   ]
  },
  {
   "cell_type": "markdown",
   "metadata": {},
   "source": [
    "we can also use arithmetic/logic operators with `if-else` statement as the condition"
   ]
  },
  {
   "cell_type": "code",
   "execution_count": null,
   "metadata": {},
   "outputs": [],
   "source": [
    "if 1 == 1:\n",
    "    print(\"one is indeed equal to one\")\n",
    "else:\n",
    "    print(\"wait what? one is not equal to itself? what is this madness???\")"
   ]
  },
  {
   "cell_type": "markdown",
   "metadata": {},
   "source": [
    "write your own if else statement with arithmetic/logic operators"
   ]
  },
  {
   "cell_type": "code",
   "execution_count": null,
   "metadata": {},
   "outputs": [],
   "source": []
  },
  {
   "cell_type": "markdown",
   "metadata": {},
   "source": [
    "example with `if-elif-else` statement"
   ]
  },
  {
   "cell_type": "code",
   "execution_count": null,
   "metadata": {},
   "outputs": [],
   "source": [
    "grade = 65\n",
    "\n",
    "if grade > 60:\n",
    "    print(\"yay! I pass!\")\n",
    "elif grade == 60:\n",
    "    print(\"that was close but I somehow managed to pass the exam\")\n",
    "else:\n",
    "    print(\"see you next year professor\")\n"
   ]
  },
  {
   "cell_type": "markdown",
   "metadata": {},
   "source": [
    "what would happen with the below code?"
   ]
  },
  {
   "cell_type": "code",
   "execution_count": null,
   "metadata": {},
   "outputs": [],
   "source": [
    "grade = 60\n",
    "\n",
    "if grade >= 60:\n",
    "    print(\"yay! I pass!\")\n",
    "elif grade == 60:\n",
    "    print(\"that was close but I somehow managed to pass the exam\")\n",
    "else:\n",
    "    print(\"see you next year professor\")"
   ]
  },
  {
   "cell_type": "markdown",
   "metadata": {},
   "source": [
    "a challenge:  \n",
    "simple `if-elif-else` statement logic for `rock paper scissors`  "
   ]
  },
  {
   "cell_type": "code",
   "execution_count": null,
   "metadata": {},
   "outputs": [],
   "source": [
    "player_picks = \n",
    "\n",
    "computer_picks =\n",
    "\n",
    "if player_picks ==     and computer_picks ==    :\n",
    "    print(\"player wins\")\n",
    "\n",
    "elif player_picks ==     and computer_picks ==   :\n",
    "    print(\"player wins\")\n",
    "\n",
    "elif player_picks ==     and computer_picks ==   :\n",
    "    print(\"player wins\")\n",
    "\n",
    "elif player_picks ==     and computer_picks ==   :\n",
    "    print(\"computer wins\")\n",
    "\n",
    "elif player_picks ==     and computer_picks ==   :\n",
    "    print(\"computer wins\")\n",
    "\n",
    "elif player_picks ==     and computer_picks ==   :\n",
    "    print(\"computer wins\")\n",
    "\n",
    "else:\n",
    "    print(\"tie\")\n"
   ]
  },
  {
   "cell_type": "markdown",
   "metadata": {},
   "source": [
    "***For Loop***"
   ]
  },
  {
   "cell_type": "code",
   "execution_count": null,
   "metadata": {},
   "outputs": [],
   "source": [
    "a_list_of_things = [\"car\", \"plane\", \"phone\", \"cat\"]\n",
    "print(a_list_of_things)"
   ]
  },
  {
   "cell_type": "code",
   "execution_count": null,
   "metadata": {},
   "outputs": [],
   "source": [
    "print(a_list_of_things[0])"
   ]
  },
  {
   "cell_type": "code",
   "execution_count": null,
   "metadata": {},
   "outputs": [],
   "source": [
    "print(a_list_of_things[0])\n",
    "print(a_list_of_things[1])\n",
    "print(a_list_of_things[2])\n",
    "print(a_list_of_things[3])"
   ]
  },
  {
   "cell_type": "code",
   "execution_count": null,
   "metadata": {},
   "outputs": [],
   "source": [
    "for thing in a_list_of_things:\n",
    "    print(thing)"
   ]
  },
  {
   "cell_type": "code",
   "execution_count": null,
   "metadata": {},
   "outputs": [],
   "source": [
    "numbers_list = list(range(1, 10))\n",
    "\n",
    "for each_number in numbers_list:\n",
    "    print(each_number)"
   ]
  },
  {
   "cell_type": "code",
   "execution_count": 12,
   "metadata": {},
   "outputs": [
    {
     "name": "stdout",
     "output_type": "stream",
     "text": [
      "iteration 1 BEFORE adding the number, our sum_total is 0\n",
      "iteration 1 AFTER adding the number, our sum_total is 1\n",
      "iteration 2 BEFORE adding the number, our sum_total is 1\n",
      "iteration 2 AFTER adding the number, our sum_total is 3\n",
      "iteration 3 BEFORE adding the number, our sum_total is 3\n",
      "iteration 3 AFTER adding the number, our sum_total is 6\n",
      "iteration 4 BEFORE adding the number, our sum_total is 6\n",
      "iteration 4 AFTER adding the number, our sum_total is 10\n",
      "iteration 5 BEFORE adding the number, our sum_total is 10\n",
      "iteration 5 AFTER adding the number, our sum_total is 15\n",
      "iteration 6 BEFORE adding the number, our sum_total is 15\n",
      "iteration 6 AFTER adding the number, our sum_total is 21\n",
      "iteration 7 BEFORE adding the number, our sum_total is 21\n",
      "iteration 7 AFTER adding the number, our sum_total is 28\n",
      "iteration 8 BEFORE adding the number, our sum_total is 28\n",
      "iteration 8 AFTER adding the number, our sum_total is 36\n",
      "iteration 9 BEFORE adding the number, our sum_total is 36\n",
      "iteration 9 AFTER adding the number, our sum_total is 45\n"
     ]
    }
   ],
   "source": [
    "    sum_total = 0\n",
    "\n",
    "    for each_number in numbers_list:\n",
    "\n",
    "        print(\"iteration \" + str(each_number) + \" BEFORE adding the number, our sum_total is \" + str(sum_total))\n",
    "        sum_total = sum_total + each_number\n",
    "        print(\"iteration \" + str(each_number) + \" AFTER adding the number, our sum_total is \" + str(sum_total))\n",
    "\n",
    "        "
   ]
  },
  {
   "cell_type": "markdown",
   "metadata": {},
   "source": [
    "use `range()` with `for loop`"
   ]
  },
  {
   "cell_type": "code",
   "execution_count": 13,
   "metadata": {},
   "outputs": [
    {
     "name": "stdout",
     "output_type": "stream",
     "text": [
      "0\n",
      "1\n",
      "2\n",
      "3\n",
      "4\n"
     ]
    }
   ],
   "source": [
    "for i in range(0, 5):\n",
    "    print(i)"
   ]
  },
  {
   "cell_type": "code",
   "execution_count": 14,
   "metadata": {},
   "outputs": [
    {
     "name": "stdout",
     "output_type": "stream",
     "text": [
      "good\n",
      "bad\n",
      "ok\n"
     ]
    }
   ],
   "source": [
    "for word in [\"good\", \"bad\", \"ok\"]:\n",
    "    print(word)\n"
   ]
  },
  {
   "cell_type": "markdown",
   "metadata": {},
   "source": [
    "write your own `for loop` to iterate through a `list` you create"
   ]
  },
  {
   "cell_type": "code",
   "execution_count": null,
   "metadata": {},
   "outputs": [],
   "source": []
  },
  {
   "cell_type": "markdown",
   "metadata": {},
   "source": [
    "using `for loop` with `list`"
   ]
  },
  {
   "cell_type": "code",
   "execution_count": 18,
   "metadata": {},
   "outputs": [
    {
     "name": "stdout",
     "output_type": "stream",
     "text": [
      "value 'Ava' has index 0\n",
      "value 'ate' has index 1\n",
      "value 'several' has index 2\n",
      "value 'cookies' has index 3\n"
     ]
    }
   ],
   "source": [
    "sentence = [\"Ava\", \"ate\", \"several\", \"cookies\"]\n",
    "\n",
    "for index in range(0, 4):\n",
    "    print(\"value \\'\" + sentence[index] + \"\\' has index \" + str(index))"
   ]
  },
  {
   "cell_type": "code",
   "execution_count": null,
   "metadata": {},
   "outputs": [],
   "source": []
  }
 ],
 "metadata": {
  "kernelspec": {
   "display_name": "Python 3.9.12 ('base')",
   "language": "python",
   "name": "python3"
  },
  "language_info": {
   "codemirror_mode": {
    "name": "ipython",
    "version": 3
   },
   "file_extension": ".py",
   "mimetype": "text/x-python",
   "name": "python",
   "nbconvert_exporter": "python",
   "pygments_lexer": "ipython3",
   "version": "3.9.12"
  },
  "orig_nbformat": 4,
  "vscode": {
   "interpreter": {
    "hash": "bc14e701949c59b2d9a4a81b6fc07b8001376023b7f3849630d555567022505d"
   }
  }
 },
 "nbformat": 4,
 "nbformat_minor": 2
}
