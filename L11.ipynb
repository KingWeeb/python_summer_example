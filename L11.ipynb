{
 "cells": [
  {
   "cell_type": "code",
   "execution_count": 2,
   "metadata": {},
   "outputs": [
    {
     "name": "stdout",
     "output_type": "stream",
     "text": [
      "3\n"
     ]
    }
   ],
   "source": [
    "x = 1\n",
    "y = 2\n",
    "\n",
    "print(x + y)"
   ]
  },
  {
   "cell_type": "code",
   "execution_count": 3,
   "metadata": {},
   "outputs": [],
   "source": [
    "def sum_of_x_y():\n",
    "    \n",
    "    x = 1\n",
    "    y = 2\n",
    "\n",
    "    print(x + y)"
   ]
  },
  {
   "cell_type": "code",
   "execution_count": 4,
   "metadata": {},
   "outputs": [
    {
     "name": "stdout",
     "output_type": "stream",
     "text": [
      "3\n"
     ]
    }
   ],
   "source": [
    "sum_of_x_y()"
   ]
  },
  {
   "cell_type": "markdown",
   "metadata": {},
   "source": [
    "Another example"
   ]
  },
  {
   "cell_type": "code",
   "execution_count": 6,
   "metadata": {},
   "outputs": [
    {
     "name": "stdout",
     "output_type": "stream",
     "text": [
      "50\n",
      "65\n",
      "23\n"
     ]
    }
   ],
   "source": [
    "for price in [50, 65, 23]:\n",
    "\n",
    "    print(price)"
   ]
  },
  {
   "cell_type": "code",
   "execution_count": 7,
   "metadata": {},
   "outputs": [],
   "source": [
    "def print_price():\n",
    "\n",
    "    for price in [50, 65, 23]:\n",
    "\n",
    "        print(price)"
   ]
  },
  {
   "cell_type": "code",
   "execution_count": 8,
   "metadata": {},
   "outputs": [
    {
     "name": "stdout",
     "output_type": "stream",
     "text": [
      "50\n",
      "65\n",
      "23\n"
     ]
    }
   ],
   "source": [
    "print_price()"
   ]
  },
  {
   "cell_type": "code",
   "execution_count": 9,
   "metadata": {},
   "outputs": [
    {
     "name": "stdout",
     "output_type": "stream",
     "text": [
      "greater than or equal to 15\n"
     ]
    }
   ],
   "source": [
    "x = 15\n",
    "\n",
    "if x >= 15:\n",
    "\n",
    "    print(\"greater than or equal to 15\")\n",
    "\n",
    "else:\n",
    "\n",
    "    print(\"less than 15\")"
   ]
  },
  {
   "cell_type": "code",
   "execution_count": 10,
   "metadata": {},
   "outputs": [],
   "source": [
    "def check_if_greater_than_15():\n",
    "\n",
    "    x = 15\n",
    "\n",
    "    if x >= 15:\n",
    "\n",
    "        print(\"greater than or equal to 15\")\n",
    "\n",
    "    else:\n",
    "\n",
    "        print(\"less than 15\")"
   ]
  },
  {
   "cell_type": "code",
   "execution_count": 11,
   "metadata": {},
   "outputs": [
    {
     "name": "stdout",
     "output_type": "stream",
     "text": [
      "greater than or equal to 15\n"
     ]
    }
   ],
   "source": [
    "check_if_greater_than_15()"
   ]
  },
  {
   "cell_type": "code",
   "execution_count": 12,
   "metadata": {},
   "outputs": [],
   "source": [
    "def check_if_greater_than_15(x):\n",
    "\n",
    "\n",
    "    if x >= 15:\n",
    "\n",
    "        print(\"greater than or equal to 15\")\n",
    "\n",
    "    else:\n",
    "\n",
    "        print(\"less than 15\")"
   ]
  },
  {
   "cell_type": "code",
   "execution_count": 15,
   "metadata": {},
   "outputs": [
    {
     "name": "stdout",
     "output_type": "stream",
     "text": [
      "greater than or equal to 15\n"
     ]
    }
   ],
   "source": [
    "check_if_greater_than_15(15)"
   ]
  },
  {
   "cell_type": "code",
   "execution_count": 18,
   "metadata": {},
   "outputs": [
    {
     "name": "stdout",
     "output_type": "stream",
     "text": [
      "2\n",
      "4\n",
      "5\n"
     ]
    }
   ],
   "source": [
    "for number in [2, 4, 5]:\n",
    "        print(number)"
   ]
  },
  {
   "cell_type": "code",
   "execution_count": 16,
   "metadata": {},
   "outputs": [],
   "source": [
    "def function_with_for_loop_inside():\n",
    "\n",
    "    for number in [2, 4, 5]:\n",
    "        print(number)\n"
   ]
  },
  {
   "cell_type": "code",
   "execution_count": 17,
   "metadata": {},
   "outputs": [
    {
     "name": "stdout",
     "output_type": "stream",
     "text": [
      "2\n",
      "4\n",
      "5\n"
     ]
    }
   ],
   "source": [
    "function_with_for_loop_inside()"
   ]
  },
  {
   "cell_type": "code",
   "execution_count": 19,
   "metadata": {},
   "outputs": [
    {
     "name": "stdout",
     "output_type": "stream",
     "text": [
      "\n",
      " outer loop iteration  0 \n",
      "\n",
      "    inner loop iteration  a\n",
      "    inner loop iteration  b\n",
      "\n",
      " outer loop iteration  1 \n",
      "\n",
      "    inner loop iteration  a\n",
      "    inner loop iteration  b\n"
     ]
    }
   ],
   "source": [
    "outer_loop_list = [0, 1]\n",
    "inner_loop_list = [\"a\", \"b\"]\n",
    "\n",
    "\n",
    "for each_outer_iteration in outer_loop_list:\n",
    "    print(\"\\n outer loop iteration \", each_outer_iteration, \"\\n\")\n",
    "    \n",
    "    for each_inner_iteration in inner_loop_list:\n",
    "        print(\"    inner loop iteration \", each_inner_iteration)"
   ]
  },
  {
   "cell_type": "code",
   "execution_count": 20,
   "metadata": {},
   "outputs": [],
   "source": [
    "def inner_loop():\n",
    "\n",
    "    inner_loop_list = [\"a\", \"b\"]\n",
    "    for each_inner_iteration in inner_loop_list:\n",
    "        print(\"    inner loop iteration \", each_inner_iteration)"
   ]
  },
  {
   "cell_type": "code",
   "execution_count": 21,
   "metadata": {},
   "outputs": [
    {
     "name": "stdout",
     "output_type": "stream",
     "text": [
      "\n",
      " outer loop iteration  0 \n",
      "\n",
      "    inner loop iteration  a\n",
      "    inner loop iteration  b\n",
      "\n",
      " outer loop iteration  1 \n",
      "\n",
      "    inner loop iteration  a\n",
      "    inner loop iteration  b\n"
     ]
    }
   ],
   "source": [
    "outer_loop_list = [0, 1]\n",
    "\n",
    "for each_outer_iteration in outer_loop_list:\n",
    "    print(\"\\n outer loop iteration \", each_outer_iteration, \"\\n\")\n",
    "    inner_loop()"
   ]
  },
  {
   "cell_type": "code",
   "execution_count": null,
   "metadata": {},
   "outputs": [],
   "source": []
  }
 ],
 "metadata": {
  "kernelspec": {
   "display_name": "Python 3.9.12 ('base')",
   "language": "python",
   "name": "python3"
  },
  "language_info": {
   "codemirror_mode": {
    "name": "ipython",
    "version": 3
   },
   "file_extension": ".py",
   "mimetype": "text/x-python",
   "name": "python",
   "nbconvert_exporter": "python",
   "pygments_lexer": "ipython3",
   "version": "3.9.12"
  },
  "orig_nbformat": 4,
  "vscode": {
   "interpreter": {
    "hash": "f5b25e052352d0ab52b06d8a00db09f6214527cdbdbadfe2118ce5f5b02aba80"
   }
  }
 },
 "nbformat": 4,
 "nbformat_minor": 2
}
