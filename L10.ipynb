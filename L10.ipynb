{
 "cells": [
  {
   "cell_type": "code",
   "execution_count": null,
   "metadata": {},
   "outputs": [],
   "source": [
    "price_catalog1 = {\"item1\" : 10, \"item2\" : 20, \"item3\" : 15}\n",
    "price_catalog2 = {\"item1\" : 1, \"item2\" : 2, \"item3\" : 85}\n",
    "price_catalog3 = {\"item1\" : 19, \"item2\" : 26, \"item3\" : 5}"
   ]
  },
  {
   "cell_type": "code",
   "execution_count": null,
   "metadata": {},
   "outputs": [],
   "source": [
    "price_catalog1[\"item1\"] + price_catalog1[\"item2\"]"
   ]
  },
  {
   "cell_type": "code",
   "execution_count": null,
   "metadata": {},
   "outputs": [],
   "source": [
    "def total_price_of_2_items(param1, param2):\n",
    "\n",
    "    return price_catalog1[param1] + price_catalog1[param2]\n",
    "\n",
    "total_price_of_2_items(\"item3\", \"item1\")"
   ]
  },
  {
   "cell_type": "markdown",
   "metadata": {},
   "source": [
    "why use a function when we could have just code without it?"
   ]
  },
  {
   "cell_type": "markdown",
   "metadata": {},
   "source": [
    "consider the example below"
   ]
  },
  {
   "cell_type": "code",
   "execution_count": null,
   "metadata": {},
   "outputs": [],
   "source": [
    "total = price_catalog1[\"item1\"] + price_catalog1[\"item2\"] + price_catalog1[\"item3\"]\n",
    "\n",
    "discount = 0.8\n",
    "\n",
    "after_discount = total * discount\n",
    "\n",
    "after_discount"
   ]
  },
  {
   "cell_type": "markdown",
   "metadata": {},
   "source": [
    "what if we want to change the discount or the price catalog?"
   ]
  },
  {
   "cell_type": "code",
   "execution_count": null,
   "metadata": {},
   "outputs": [],
   "source": [
    "total = price_catalog2[\"item1\"] + price_catalog2[\"item2\"] + price_catalog2[\"item3\"]\n",
    "\n",
    "discount = 0.5\n",
    "\n",
    "after_discount = total * discount\n",
    "\n",
    "after_discount"
   ]
  },
  {
   "cell_type": "markdown",
   "metadata": {},
   "source": [
    "now lets change it again"
   ]
  },
  {
   "cell_type": "code",
   "execution_count": null,
   "metadata": {},
   "outputs": [],
   "source": [
    "total = price_catalog3[\"item1\"] + price_catalog3[\"item2\"] + price_catalog3[\"item3\"]\n",
    "\n",
    "discount = 0.5\n",
    "\n",
    "after_discount = total * discount\n",
    "\n",
    "after_discount"
   ]
  },
  {
   "cell_type": "markdown",
   "metadata": {},
   "source": [
    "or we can instead define our own `final_price() function`"
   ]
  },
  {
   "cell_type": "code",
   "execution_count": null,
   "metadata": {},
   "outputs": [],
   "source": [
    "def final_price(price_catalog, discount):\n",
    "    sum = 0\n",
    "\n",
    "    for price in price_catalog.values():\n",
    "        sum += price\n",
    "\n",
    "    final_price = sum * discount\n",
    "\n",
    "    return final_price\n",
    "\n"
   ]
  },
  {
   "cell_type": "code",
   "execution_count": null,
   "metadata": {},
   "outputs": [],
   "source": [
    "final_price(price_catalog1, discount = 0.8)"
   ]
  },
  {
   "cell_type": "code",
   "execution_count": null,
   "metadata": {},
   "outputs": [],
   "source": [
    "final_price(price_catalog2, discount = 0.5)"
   ]
  },
  {
   "cell_type": "code",
   "execution_count": null,
   "metadata": {},
   "outputs": [],
   "source": [
    "final_price(price_catalog3, discount = 0.5)"
   ]
  },
  {
   "cell_type": "code",
   "execution_count": null,
   "metadata": {},
   "outputs": [],
   "source": [
    "def max_of_3(v1, v2, v3):\n",
    "    m = v1\n",
    "\n",
    "    if v2 > m:\n",
    "        m = v2\n",
    "        \n",
    "    if v3 > m:\n",
    "        m = v3\n",
    "\n",
    "    return m\n",
    "    "
   ]
  },
  {
   "cell_type": "code",
   "execution_count": null,
   "metadata": {},
   "outputs": [],
   "source": [
    "max_of_3(1, 2, 3)"
   ]
  },
  {
   "cell_type": "markdown",
   "metadata": {},
   "source": [
    "rounding numbers"
   ]
  },
  {
   "cell_type": "code",
   "execution_count": null,
   "metadata": {},
   "outputs": [],
   "source": [
    "x = 3.4\n",
    "\n",
    "remainder = x % 1\n",
    "if remainder < 0.5:\n",
    "    \n",
    "    print(\"rounding down\")\n",
    "    x = x - remainder\n",
    "\n",
    "else:\n",
    "\n",
    "    print(\"rounding up\")\n",
    "    x = x + (1 - remainder)\n",
    "\n",
    "print(\"after rounding we get:\", x)"
   ]
  },
  {
   "cell_type": "markdown",
   "metadata": {},
   "source": [
    "but since we do not want to copy paste this entire chunk of code each time we want to round a number, let's put them inside a function"
   ]
  },
  {
   "cell_type": "code",
   "execution_count": null,
   "metadata": {},
   "outputs": [],
   "source": [
    "def rounding_nums(number):\n",
    "    remainder = number % 1\n",
    "\n",
    "    if remainder < 0.5:\n",
    "        return number - remainder\n",
    "\n",
    "    else:\n",
    "        return number + (1 - remainder)"
   ]
  },
  {
   "cell_type": "code",
   "execution_count": null,
   "metadata": {},
   "outputs": [],
   "source": [
    "rounding_nums(1.3)"
   ]
  },
  {
   "cell_type": "code",
   "execution_count": null,
   "metadata": {},
   "outputs": [],
   "source": [
    "rounding_nums(1.9)"
   ]
  },
  {
   "cell_type": "code",
   "execution_count": 41,
   "metadata": {},
   "outputs": [
    {
     "data": {
      "text/plain": [
       "54"
      ]
     },
     "execution_count": 41,
     "metadata": {},
     "output_type": "execute_result"
    }
   ],
   "source": [
    "max(1, 54, 1, 2, 33)"
   ]
  },
  {
   "cell_type": "code",
   "execution_count": 42,
   "metadata": {},
   "outputs": [
    {
     "data": {
      "text/plain": [
       "1"
      ]
     },
     "execution_count": 42,
     "metadata": {},
     "output_type": "execute_result"
    }
   ],
   "source": [
    "min(1, 54, 1, 2, 33)"
   ]
  },
  {
   "cell_type": "code",
   "execution_count": 43,
   "metadata": {},
   "outputs": [],
   "source": [
    "def rectangle_area(length=2, width=3):\n",
    "    return length * width"
   ]
  },
  {
   "cell_type": "code",
   "execution_count": 44,
   "metadata": {},
   "outputs": [
    {
     "data": {
      "text/plain": [
       "6"
      ]
     },
     "execution_count": 44,
     "metadata": {},
     "output_type": "execute_result"
    }
   ],
   "source": [
    "rectangle_area()"
   ]
  },
  {
   "cell_type": "code",
   "execution_count": 45,
   "metadata": {},
   "outputs": [
    {
     "data": {
      "text/plain": [
       "50"
      ]
     },
     "execution_count": 45,
     "metadata": {},
     "output_type": "execute_result"
    }
   ],
   "source": [
    "rectangle_area(10, 5)"
   ]
  },
  {
   "cell_type": "code",
   "execution_count": 46,
   "metadata": {},
   "outputs": [
    {
     "data": {
      "text/plain": [
       "2"
      ]
     },
     "execution_count": 46,
     "metadata": {},
     "output_type": "execute_result"
    }
   ],
   "source": [
    "rectangle_area(width = 1, length= 2)"
   ]
  },
  {
   "cell_type": "code",
   "execution_count": null,
   "metadata": {},
   "outputs": [],
   "source": []
  }
 ],
 "metadata": {
  "kernelspec": {
   "display_name": "Python 3.9.12 ('base')",
   "language": "python",
   "name": "python3"
  },
  "language_info": {
   "codemirror_mode": {
    "name": "ipython",
    "version": 3
   },
   "file_extension": ".py",
   "mimetype": "text/x-python",
   "name": "python",
   "nbconvert_exporter": "python",
   "pygments_lexer": "ipython3",
   "version": "3.9.12"
  },
  "orig_nbformat": 4,
  "vscode": {
   "interpreter": {
    "hash": "f5b25e052352d0ab52b06d8a00db09f6214527cdbdbadfe2118ce5f5b02aba80"
   }
  }
 },
 "nbformat": 4,
 "nbformat_minor": 2
}
