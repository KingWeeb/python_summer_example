{
 "cells": [
  {
   "cell_type": "markdown",
   "metadata": {},
   "source": [
    "***if else statement***"
   ]
  },
  {
   "cell_type": "markdown",
   "metadata": {},
   "source": [
    "an exmaple"
   ]
  },
  {
   "cell_type": "code",
   "execution_count": null,
   "metadata": {},
   "outputs": [],
   "source": [
    "x = True\n",
    "\n",
    "if x:\n",
    "    print(\"Executing if\")\n",
    "else:\n",
    "    print(\"Executing else\")\n",
    "\n",
    "print(\"this line prints regardless of the outcome of the if-else statement\")"
   ]
  },
  {
   "cell_type": "markdown",
   "metadata": {},
   "source": [
    "try assign `x` to be `False`"
   ]
  },
  {
   "cell_type": "code",
   "execution_count": null,
   "metadata": {},
   "outputs": [],
   "source": [
    "x = \n",
    "\n",
    "if x:\n",
    "    print(\"Executing if\")\n",
    "else:\n",
    "    print(\"Executing else\")\n",
    "\n",
    "print(\"this line prints regardless of the outcome of the if-else statement\")"
   ]
  },
  {
   "cell_type": "markdown",
   "metadata": {},
   "source": [
    "another example"
   ]
  },
  {
   "cell_type": "code",
   "execution_count": null,
   "metadata": {},
   "outputs": [],
   "source": [
    "grade = 100"
   ]
  },
  {
   "cell_type": "markdown",
   "metadata": {},
   "source": [
    "try writing the `if-else` block to determine if we have a passing grade"
   ]
  },
  {
   "cell_type": "markdown",
   "metadata": {},
   "source": [
    "change your grade and run the `if-else` block again, see if we pass or not"
   ]
  },
  {
   "cell_type": "markdown",
   "metadata": {},
   "source": [
    "we can also print out multiple lines in a single `if-else` statement"
   ]
  },
  {
   "cell_type": "code",
   "execution_count": null,
   "metadata": {},
   "outputs": [],
   "source": [
    "x = True\n",
    "\n",
    "if x:\n",
    "    print(\"if_1\")\n",
    "    print(\"if_2\")\n",
    "    print(\"if_3\")\n",
    "    print(3 * 5)\n",
    "else:\n",
    "    print(\"else_1\")\n",
    "    print(\"else_2\")\n",
    "    print(\"else_3\")\n",
    "    print(9 / 3)"
   ]
  },
  {
   "cell_type": "markdown",
   "metadata": {},
   "source": [
    "example of `if-elif-else` statement"
   ]
  },
  {
   "cell_type": "code",
   "execution_count": null,
   "metadata": {},
   "outputs": [],
   "source": [
    "game_price = 100\n",
    "\n",
    "money_we_have = 80\n",
    "\n",
    "if money_we_have < game_price:\n",
    "    print(\"we don't have enough money to buy the game\")\n",
    "elif money_we_have == game_price:\n",
    "    print(\"we have just enough to get the game\")\n",
    "else:\n",
    "    print(\"we have enough money to buy the game\")"
   ]
  },
  {
   "cell_type": "code",
   "execution_count": null,
   "metadata": {},
   "outputs": [],
   "source": [
    "game_price = 100\n",
    "\n",
    "money_we_have = 120\n",
    "\n",
    "if money_we_have < game_price:\n",
    "    print(\"we don't have enough money to buy the game\")\n",
    "elif money_we_have == game_price:\n",
    "    print(\"we have just enough to get the game\")\n",
    "else:\n",
    "    print(\"we have enough money to buy the game\")"
   ]
  },
  {
   "cell_type": "markdown",
   "metadata": {},
   "source": [
    "write your own `if-elif-else` block"
   ]
  },
  {
   "cell_type": "code",
   "execution_count": null,
   "metadata": {},
   "outputs": [],
   "source": []
  },
  {
   "cell_type": "markdown",
   "metadata": {},
   "source": [
    "but what would happen if we satisfy multiple conditions at the same time? i.e. more than 1 condition is `True`"
   ]
  },
  {
   "cell_type": "code",
   "execution_count": null,
   "metadata": {},
   "outputs": [],
   "source": [
    "if True:\n",
    "    print(\"alpha\")\n",
    "elif True:\n",
    "    print(\"beta\")\n",
    "elif True:\n",
    "    print(\"charlie\")\n",
    "else:\n",
    "    print(\"delta\")"
   ]
  },
  {
   "cell_type": "markdown",
   "metadata": {},
   "source": [
    "***Determining if a list Is Empty***  \n",
    "\n",
    "Can use a list as a condition to determine if it’s empty—`non-empty is True` and `empty is False`"
   ]
  },
  {
   "cell_type": "code",
   "execution_count": null,
   "metadata": {},
   "outputs": [],
   "source": [
    "list1 = "
   ]
  },
  {
   "cell_type": "code",
   "execution_count": null,
   "metadata": {},
   "outputs": [],
   "source": [
    "if list1:\n",
    "    print(\"not empty\")\n",
    "else:\n",
    "    print(\"empty\")"
   ]
  },
  {
   "cell_type": "code",
   "execution_count": null,
   "metadata": {},
   "outputs": [],
   "source": [
    "list1.clear()"
   ]
  },
  {
   "cell_type": "code",
   "execution_count": null,
   "metadata": {},
   "outputs": [],
   "source": [
    "if list1:\n",
    "    print(\"not empty\")\n",
    "else:\n",
    "    print(\"empty\")"
   ]
  },
  {
   "cell_type": "markdown",
   "metadata": {},
   "source": [
    "***Determining if a Dictionary Is Empty***  \n",
    "\n",
    "Can use a dictionary as a condition to determine if it’s empty—`non-empty is True` and `empty is False`"
   ]
  },
  {
   "cell_type": "code",
   "execution_count": null,
   "metadata": {},
   "outputs": [],
   "source": [
    "dct = {\"one\" : 1, \"two\" : 2}"
   ]
  },
  {
   "cell_type": "code",
   "execution_count": null,
   "metadata": {},
   "outputs": [],
   "source": [
    "if dct:\n",
    "    print(\"not empty\")\n",
    "else:\n",
    "    print(\"empty\")"
   ]
  },
  {
   "cell_type": "code",
   "execution_count": null,
   "metadata": {},
   "outputs": [],
   "source": [
    "dct.clear()"
   ]
  },
  {
   "cell_type": "code",
   "execution_count": null,
   "metadata": {},
   "outputs": [],
   "source": [
    "if dct:\n",
    "    print(\"not empty\")\n",
    "else:\n",
    "    print(\"empty\")"
   ]
  },
  {
   "cell_type": "markdown",
   "metadata": {},
   "source": [
    "we can also use arithmetic/logic operators with `if-else` statement as the condition"
   ]
  },
  {
   "cell_type": "code",
   "execution_count": null,
   "metadata": {},
   "outputs": [],
   "source": [
    "if 1 == 1:\n",
    "    print(\"one is indeed equal to one\")\n",
    "else:\n",
    "    print(\"wait what? one is not equal to itself? what is this madness???\")"
   ]
  },
  {
   "cell_type": "markdown",
   "metadata": {},
   "source": [
    "write your own if else statement with arithmetic/logic operators"
   ]
  },
  {
   "cell_type": "code",
   "execution_count": null,
   "metadata": {},
   "outputs": [],
   "source": []
  },
  {
   "cell_type": "markdown",
   "metadata": {},
   "source": [
    "example with `if-elif-else` statement"
   ]
  },
  {
   "cell_type": "code",
   "execution_count": null,
   "metadata": {},
   "outputs": [],
   "source": [
    "grade = 65\n",
    "\n",
    "if grade > 60:\n",
    "    print(\"yay! I pass!\")\n",
    "elif grade == 60:\n",
    "    print(\"that was close but I somehow managed to pass the exam\")\n",
    "else:\n",
    "    print(\"see you next year professor\")\n"
   ]
  },
  {
   "cell_type": "markdown",
   "metadata": {},
   "source": [
    "what would happen with the below code?"
   ]
  },
  {
   "cell_type": "code",
   "execution_count": null,
   "metadata": {},
   "outputs": [],
   "source": [
    "grade = 60\n",
    "\n",
    "if grade >= 60:\n",
    "    print(\"yay! I pass!\")\n",
    "elif grade == 60:\n",
    "    print(\"that was close but I somehow managed to pass the exam\")\n",
    "else:\n",
    "    print(\"see you next year professor\")"
   ]
  }
 ],
 "metadata": {
  "kernelspec": {
   "display_name": "Python 3.9.12 ('base')",
   "language": "python",
   "name": "python3"
  },
  "language_info": {
   "codemirror_mode": {
    "name": "ipython",
    "version": 3
   },
   "file_extension": ".py",
   "mimetype": "text/x-python",
   "name": "python",
   "nbconvert_exporter": "python",
   "pygments_lexer": "ipython3",
   "version": "3.9.12"
  },
  "orig_nbformat": 4,
  "vscode": {
   "interpreter": {
    "hash": "f5b25e052352d0ab52b06d8a00db09f6214527cdbdbadfe2118ce5f5b02aba80"
   }
  }
 },
 "nbformat": 4,
 "nbformat_minor": 2
}
