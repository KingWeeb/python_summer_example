{
  "cells": [
    {
      "cell_type": "code",
      "execution_count": null,
      "metadata": {
        "id": "EmEXvQZHHAeg"
      },
      "outputs": [],
      "source": [
        "print(\"Im learning Python now yay! \\U0001F606\")"
      ]
    },
    {
      "cell_type": "code",
      "source": [
        "#!/usr/bin/env python\n",
        "# coding: utf-8\n",
        "\n",
        "# In[ ]:\n",
        "\n",
        "\n",
        "#Initialize variables\n",
        "options = ['rock', 'paper', 'scissors']\n",
        "player_score = 0\n",
        "computer_score = 0\n",
        "\n",
        "#Ask player if they are ready to play before starting\n",
        "def start():\n",
        "    ready = input('Ready to play? (yes / no); ').lower()\n",
        "    if ready == 'yes':\n",
        "        random_move(player_score, computer_score)\n",
        "    elif ready == 'no':\n",
        "        print(':(')\n",
        "    else:\n",
        "        print('Invalid selection. Please try again!')\n",
        "        start()\n",
        "\n",
        "#Generate random move for the computer\n",
        "import random\n",
        "def random_move(player_score, computer_score):\n",
        "    computer_move = random.choice(options)\n",
        "    valid(computer_move, player_score, computer_score)\n",
        "    \n",
        "#Check if player's move is valid choice r, p, or s\n",
        "def valid(computer_move, player_score, computer_score):\n",
        "    player_move = input('Make a move (rock / paper / scissors):').lower()\n",
        "#If the player's move is valid, reveal the move of the computer\n",
        "    if player_move in options:\n",
        "        if computer_move == 'rock':\n",
        "            print ('Computer chose ROCK!')\n",
        "        elif computer_move == 'paper':\n",
        "            print ('Computer chose PAPER!')\n",
        "        elif computer_move == 'scissors':\n",
        "            print ('Computer chose SCISSORS!')\n",
        "        result(player_move, computer_move, player_score, computer_score)\n",
        "    else:\n",
        "        print(\"Invalid Selection. Please Try again.\")\n",
        "        valid(computer_move, player_score, computer_score)\n",
        "\n",
        "#Recall function until move is valid\n",
        "\n",
        "#Determine winner of round and adjust the scores\n",
        "def result(player_move, computer_move, player_score, computer_score):\n",
        "    if player_move == computer_move:      #Tie\n",
        "        print('Tie!')\n",
        "    elif player_move == 'rock':           #Player Rock\n",
        "        if computer_move == 'paper':\n",
        "            print('Haha you lose!')\n",
        "            computer_score += 1\n",
        "        else:\n",
        "            print('You won!')\n",
        "            player_score += 1\n",
        "    elif player_move == 'paper':          #Player paper\n",
        "        if computer_move == 'rock':\n",
        "            print('You won!')\n",
        "            player_score += 1\n",
        "        else:\n",
        "            print('Haha you lose!')\n",
        "            computer_score += 1\n",
        "    elif player_move == 'scissors':        #Player scissors\n",
        "        if computer_move == 'rock':\n",
        "            print('Haha you lose!')\n",
        "            computer_score += 1\n",
        "        else:\n",
        "            print('You won!')\n",
        "            player_score += 1\n",
        "    score(player_score, computer_score)   #Return scores to score function\n",
        "    \n",
        "#Print scores after each round\n",
        "def score(player_score, computer_score):\n",
        "    print(\"Player:\", player_score, '| Computer:', computer_score)\n",
        "    play_again(player_score, computer_score)\n",
        "    \n",
        "#Ask player to play again or end the game\n",
        "def play_again(player_score, computer_score):\n",
        "    again = input('Do you want to Play Again? (yes / no): ').lower()\n",
        "    if again == 'yes':\n",
        "        random_move(player_score, computer_score) #Send scores back to random function and repeat for next round\n",
        "    elif again == 'no':\n",
        "        print('Thanks for Playing! \\nFinal Score: \\nPlayer:', player_score, '| Computer:', computer_score)\n",
        "    else:\n",
        "        print('Invalid selection. Please try again.')\n",
        "        play_again(player_score, computer_score) #Recall function until valid selection is made\n",
        "\n",
        "def main():\n",
        "    print('Welcome to Rock, Paper, Scissors!')\n",
        "    start()\n",
        "    \n",
        "#Start the game\n",
        "if __name__ == \"__main__\":\n",
        "    main()\n",
        "    \n",
        "\n"
      ],
      "metadata": {
        "id": "z-S7U8k-SIJS"
      },
      "execution_count": null,
      "outputs": []
    },
    {
      "cell_type": "markdown",
      "source": [
        "Ex 4. create a variable and store a value"
      ],
      "metadata": {
        "id": "UpH_2BnRZtbq"
      }
    },
    {
      "cell_type": "code",
      "source": [
        "x = 1"
      ],
      "metadata": {
        "id": "CctLrPgxafuv"
      },
      "execution_count": null,
      "outputs": []
    },
    {
      "cell_type": "markdown",
      "source": [
        "Ex 4a.retrieving the variable we just created `x`"
      ],
      "metadata": {
        "id": "mAHR8MNjakpZ"
      }
    },
    {
      "cell_type": "code",
      "source": [
        "print(x)"
      ],
      "metadata": {
        "colab": {
          "base_uri": "https://localhost:8080/"
        },
        "id": "ILhljyw5aiWp",
        "outputId": "6e823b79-055e-4bee-c0e1-22eed889d005"
      },
      "execution_count": null,
      "outputs": [
        {
          "output_type": "stream",
          "name": "stdout",
          "text": [
            "1\n"
          ]
        }
      ]
    },
    {
      "cell_type": "markdown",
      "source": [
        "Ex 5. Random Number Generator\n",
        "\n",
        "Try running the code below a few times, does the output stay the same or not?"
      ],
      "metadata": {
        "id": "SNkdcN5iWuzO"
      }
    },
    {
      "cell_type": "code",
      "source": [
        "#import the module \"random\" here\n",
        "import random\n",
        "\n",
        "#generate a random number from 0 to 2, including 0, 1, 2\n",
        "random.randint(0, 2)\n",
        "\n",
        "#create a new variable and store the generated number\n",
        "random_number = random.randint(0, 2)\n",
        "\n",
        "#print out the stored random number using print()\n",
        "print(random_number)\n"
      ],
      "metadata": {
        "id": "XYqbN-ycWuRd"
      },
      "execution_count": null,
      "outputs": []
    },
    {
      "cell_type": "markdown",
      "source": [
        "now create your own random number Generator that generates a random number ***between 5 and 85***"
      ],
      "metadata": {
        "id": "Hvm3CxiQYcpa"
      }
    },
    {
      "cell_type": "code",
      "source": [
        "#import the module \"random\" here\n",
        "\n",
        "\n",
        "#generate a random number from 5 to 85\n",
        "\n",
        "\n",
        "#create a new variable and store the generated number\n",
        "\n",
        "\n",
        "#print out the stored random number using print()\n"
      ],
      "metadata": {
        "id": "FoeCf-UuYkzu"
      },
      "execution_count": null,
      "outputs": []
    }
  ],
  "metadata": {
    "kernelspec": {
      "display_name": "Python 3.9.12 ('base')",
      "language": "python",
      "name": "python3"
    },
    "language_info": {
      "codemirror_mode": {
        "name": "ipython",
        "version": 3
      },
      "file_extension": ".py",
      "mimetype": "text/x-python",
      "name": "python",
      "nbconvert_exporter": "python",
      "pygments_lexer": "ipython3",
      "version": "3.9.12"
    },
    "orig_nbformat": 4,
    "vscode": {
      "interpreter": {
        "hash": "f5b25e052352d0ab52b06d8a00db09f6214527cdbdbadfe2118ce5f5b02aba80"
      }
    },
    "colab": {
      "name": "L1p.ipynb",
      "provenance": [],
      "collapsed_sections": []
    }
  },
  "nbformat": 4,
  "nbformat_minor": 0
}