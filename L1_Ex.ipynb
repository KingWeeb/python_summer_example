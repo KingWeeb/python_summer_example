{
  "cells": [
    {
      "cell_type": "markdown",
      "source": [
        "Ex 1. try out `print()` yourself!"
      ],
      "metadata": {
        "id": "eJiZS8wbHQ6_"
      }
    },
    {
      "cell_type": "code",
      "source": [
        ""
      ],
      "metadata": {
        "id": "dY-pxoF-HQTj"
      },
      "execution_count": 2,
      "outputs": []
    },
    {
      "cell_type": "markdown",
      "metadata": {
        "id": "iWnN3IkiGbpi"
      },
      "source": [
        "Ex 2. try importing one of the following modules:  \n",
        "\n",
        "1. *random*\n",
        "\n",
        "2. *pandas*\n",
        "\n",
        "3. *numpy*"
      ]
    },
    {
      "cell_type": "code",
      "source": [
        ""
      ],
      "metadata": {
        "id": "0_URwEoXSh_S"
      },
      "execution_count": 2,
      "outputs": []
    },
    {
      "cell_type": "markdown",
      "source": [
        "## Flag example\n",
        "[Click me to draw the flag](https://replit.com/@HydroFriend/turtle-flag?v=1)"
      ],
      "metadata": {
        "id": "eXcR8GgTQtX5"
      }
    },
    {
      "cell_type": "markdown",
      "source": [
        "EX 3. **rock paper scissors game**\n",
        "\n",
        "run the code block below and try it out!"
      ],
      "metadata": {
        "id": "_KVG5-GiSQhO"
      }
    },
    {
      "cell_type": "code",
      "execution_count": null,
      "metadata": {
        "id": "BfJFzVuhGbpj",
        "colab": {
          "base_uri": "https://localhost:8080/"
        },
        "outputId": "c2f382a1-1125-4b11-e5e3-4a40194bb9e9"
      },
      "outputs": [
        {
          "output_type": "stream",
          "name": "stdout",
          "text": [
            "Welcome to Rock, Paper, Scissors!\n",
            "Ready to play? (yes / no); no\n",
            ":(\n"
          ]
        }
      ],
      "source": [
        "#!/usr/bin/env python\n",
        "# coding: utf-8\n",
        "\n",
        "# In[ ]:\n",
        "\n",
        "\n",
        "#Initialize variables\n",
        "options = ['rock', 'paper', 'scissors']\n",
        "player_score = 0\n",
        "computer_score = 0\n",
        "\n",
        "#Ask player if they are ready to play before starting\n",
        "def start():\n",
        "    ready = input('Ready to play? (yes / no); ').lower()\n",
        "    if ready == 'yes':\n",
        "        random_move(player_score, computer_score)\n",
        "    elif ready == 'no':\n",
        "        print(':(')\n",
        "    else:\n",
        "        print('Invalid selection. Please try again!')\n",
        "        start()\n",
        "\n",
        "#Generate random move for the computer\n",
        "import random\n",
        "def random_move(player_score, computer_score):\n",
        "    computer_move = random.choice(options)\n",
        "    valid(computer_move, player_score, computer_score)\n",
        "    \n",
        "#Check if player's move is valid choice r, p, or s\n",
        "def valid(computer_move, player_score, computer_score):\n",
        "    player_move = input('Make a move (rock / paper / scissors):').lower()\n",
        "#If the player's move is valid, reveal the move of the computer\n",
        "    if player_move in options:\n",
        "        if computer_move == 'rock':\n",
        "            print ('Computer chose ROCK!')\n",
        "        elif computer_move == 'paper':\n",
        "            print ('Computer chose PAPER!')\n",
        "        elif computer_move == 'scissors':\n",
        "            print ('Computer chose SCISSORS!')\n",
        "        result(player_move, computer_move, player_score, computer_score)\n",
        "    else:\n",
        "        print(\"Invalid Selection. Please Try again.\")\n",
        "        valid(computer_move, player_score, computer_score)\n",
        "\n",
        "#Recall function until move is valid\n",
        "\n",
        "#Determine winner of round and adjust the scores\n",
        "def result(player_move, computer_move, player_score, computer_score):\n",
        "    if player_move == computer_move:      #Tie\n",
        "        print('Tie!')\n",
        "    elif player_move == 'rock':           #Player Rock\n",
        "        if computer_move == 'paper':\n",
        "            print('Haha you lose!')\n",
        "            computer_score += 1\n",
        "        else:\n",
        "            print('You won!')\n",
        "            player_score += 1\n",
        "    elif player_move == 'paper':          #Player paper\n",
        "        if computer_move == 'rock':\n",
        "            print('You won!')\n",
        "            player_score += 1\n",
        "        else:\n",
        "            print('Haha you lose!')\n",
        "            computer_score += 1\n",
        "    elif player_move == 'scissors':        #Player scissors\n",
        "        if computer_move == 'rock':\n",
        "            print('Haha you lose!')\n",
        "            computer_score += 1\n",
        "        else:\n",
        "            print('You won!')\n",
        "            player_score += 1\n",
        "    score(player_score, computer_score)   #Return scores to score function\n",
        "    \n",
        "#Print scores after each round\n",
        "def score(player_score, computer_score):\n",
        "    print(\"Player:\", player_score, '| Computer:', computer_score)\n",
        "    play_again(player_score, computer_score)\n",
        "    \n",
        "#Ask player to play again or end the game\n",
        "def play_again(player_score, computer_score):\n",
        "    again = input('Do you want to Play Again? (yes / no): ').lower()\n",
        "    if again == 'yes':\n",
        "        random_move(player_score, computer_score) #Send scores back to random function and repeat for next round\n",
        "    elif again == 'no':\n",
        "        print('Thanks for Playing! \\nFinal Score: \\nPlayer:', player_score, '| Computer:', computer_score)\n",
        "    else:\n",
        "        print('Invalid selection. Please try again.')\n",
        "        play_again(player_score, computer_score) #Recall function until valid selection is made\n",
        "\n",
        "def main():\n",
        "    print('Welcome to Rock, Paper, Scissors!')\n",
        "    start()\n",
        "    \n",
        "#Start the game\n",
        "if __name__ == \"__main__\":\n",
        "    main()\n",
        "    \n",
        "\n"
      ]
    },
    {
      "cell_type": "markdown",
      "source": [
        "Ex 4. create your own python variable and give it a value you want"
      ],
      "metadata": {
        "id": "SU61r8iDZydo"
      }
    },
    {
      "cell_type": "code",
      "source": [
        ""
      ],
      "metadata": {
        "id": "zopo4kLpZyxE"
      },
      "execution_count": null,
      "outputs": []
    },
    {
      "cell_type": "markdown",
      "source": [
        "Ex 5. Random Number Generator"
      ],
      "metadata": {
        "id": "uctMz4W1XTW9"
      }
    },
    {
      "cell_type": "code",
      "source": [
        "#import the module \"random\" here\n",
        "\n",
        "\n",
        "#generate a random number from 0 to 2, including 0, 1, 2\n",
        "\n",
        "\n",
        "#create a new variable and store the generated number\n",
        "\n",
        "\n",
        "#print out the stored random number using print()"
      ],
      "metadata": {
        "id": "DEbTWfpjXSbq"
      },
      "execution_count": null,
      "outputs": []
    },
    {
      "cell_type": "markdown",
      "source": [
        "now create your own random number Generator that generates a random number between 5 and 85"
      ],
      "metadata": {
        "id": "EHM0PL3pYzRN"
      }
    },
    {
      "cell_type": "code",
      "source": [
        "#import the module \"random\" here\n",
        "\n",
        "\n",
        "#generate a random number from 5 to 85\n",
        "\n",
        "\n",
        "#create a new variable and store the generated number\n",
        "\n",
        "\n",
        "#print out the stored random number using print()"
      ],
      "metadata": {
        "id": "AAb7xYdlYzqH"
      },
      "execution_count": null,
      "outputs": []
    }
  ],
  "metadata": {
    "language_info": {
      "name": "python"
    },
    "orig_nbformat": 4,
    "colab": {
      "name": "L1 Ex.ipynb",
      "provenance": [],
      "collapsed_sections": []
    },
    "kernelspec": {
      "name": "python3",
      "display_name": "Python 3"
    },
    "gpuClass": "standard"
  },
  "nbformat": 4,
  "nbformat_minor": 0
}