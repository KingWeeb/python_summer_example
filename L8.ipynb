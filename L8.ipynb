{
 "cells": [
  {
   "cell_type": "markdown",
   "metadata": {},
   "source": [
    "***Determining if a list Is Empty***  \n",
    "\n",
    "Can use a list as a condition to determine if it’s empty—`non-empty is True` and `empty is False`"
   ]
  },
  {
   "cell_type": "code",
   "execution_count": null,
   "metadata": {},
   "outputs": [],
   "source": [
    "list1 = "
   ]
  },
  {
   "cell_type": "code",
   "execution_count": null,
   "metadata": {},
   "outputs": [],
   "source": [
    "if list1:\n",
    "    print(\"not empty\")\n",
    "else:\n",
    "    print(\"empty\")"
   ]
  },
  {
   "cell_type": "code",
   "execution_count": null,
   "metadata": {},
   "outputs": [],
   "source": [
    "list1.clear()"
   ]
  },
  {
   "cell_type": "code",
   "execution_count": null,
   "metadata": {},
   "outputs": [],
   "source": [
    "if list1:\n",
    "    print(\"not empty\")\n",
    "else:\n",
    "    print(\"empty\")"
   ]
  },
  {
   "cell_type": "markdown",
   "metadata": {},
   "source": [
    "***Determining if a Dictionary Is Empty***  \n",
    "\n",
    "Can use a dictionary as a condition to determine if it’s empty—`non-empty is True` and `empty is False`"
   ]
  },
  {
   "cell_type": "code",
   "execution_count": null,
   "metadata": {},
   "outputs": [],
   "source": [
    "dct = {\"one\" : 1, \"two\" : 2}"
   ]
  },
  {
   "cell_type": "code",
   "execution_count": null,
   "metadata": {},
   "outputs": [],
   "source": [
    "if dct:\n",
    "    print(\"not empty\")\n",
    "else:\n",
    "    print(\"empty\")"
   ]
  },
  {
   "cell_type": "code",
   "execution_count": null,
   "metadata": {},
   "outputs": [],
   "source": [
    "dct.clear()"
   ]
  },
  {
   "cell_type": "code",
   "execution_count": null,
   "metadata": {},
   "outputs": [],
   "source": [
    "if dct:\n",
    "    print(\"not empty\")\n",
    "else:\n",
    "    print(\"empty\")"
   ]
  },
  {
   "cell_type": "markdown",
   "metadata": {},
   "source": [
    "we can also use arithmetic/logic operators with `if-else` statement as the condition"
   ]
  },
  {
   "cell_type": "code",
   "execution_count": null,
   "metadata": {},
   "outputs": [],
   "source": [
    "if 1 == 1:\n",
    "    print(\"one is indeed equal to one\")\n",
    "else:\n",
    "    print(\"wait what? one is not equal to itself? what is this madness???\")"
   ]
  },
  {
   "cell_type": "markdown",
   "metadata": {},
   "source": [
    "write your own if else statement with arithmetic/logic operators"
   ]
  },
  {
   "cell_type": "code",
   "execution_count": null,
   "metadata": {},
   "outputs": [],
   "source": []
  },
  {
   "cell_type": "markdown",
   "metadata": {},
   "source": [
    "example with `if-elif-else` statement"
   ]
  },
  {
   "cell_type": "code",
   "execution_count": null,
   "metadata": {},
   "outputs": [],
   "source": [
    "grade = 65\n",
    "\n",
    "if grade > 60:\n",
    "    print(\"yay! I pass!\")\n",
    "elif grade == 60:\n",
    "    print(\"that was close but I somehow managed to pass the exam\")\n",
    "else:\n",
    "    print(\"see you next year professor\")\n"
   ]
  },
  {
   "cell_type": "markdown",
   "metadata": {},
   "source": [
    "what would happen with the below code?"
   ]
  },
  {
   "cell_type": "code",
   "execution_count": null,
   "metadata": {},
   "outputs": [],
   "source": [
    "grade = 60\n",
    "\n",
    "if grade >= 60:\n",
    "    print(\"yay! I pass!\")\n",
    "elif grade == 60:\n",
    "    print(\"that was close but I somehow managed to pass the exam\")\n",
    "else:\n",
    "    print(\"see you next year professor\")"
   ]
  },
  {
   "cell_type": "markdown",
   "metadata": {},
   "source": [
    "a challenge:  \n",
    "simple `if-elif-else` statement logic for `rock paper scissors`  "
   ]
  },
  {
   "cell_type": "code",
   "execution_count": null,
   "metadata": {},
   "outputs": [],
   "source": [
    "player_picks = \n",
    "\n",
    "computer_picks =\n",
    "\n",
    "if player_picks ==     and computer_picks ==    :\n",
    "    print(\"player wins\")\n",
    "\n",
    "elif player_picks ==     and computer_picks ==   :\n",
    "    print(\"player wins\")\n",
    "\n",
    "elif player_picks ==     and computer_picks ==   :\n",
    "    print(\"player wins\")\n",
    "\n",
    "elif player_picks ==     and computer_picks ==   :\n",
    "    print(\"computer wins\")\n",
    "\n",
    "elif player_picks ==     and computer_picks ==   :\n",
    "    print(\"computer wins\")\n",
    "\n",
    "elif player_picks ==     and computer_picks ==   :\n",
    "    print(\"computer wins\")\n",
    "\n",
    "else:\n",
    "    print(\"tie\")\n"
   ]
  },
  {
   "cell_type": "markdown",
   "metadata": {},
   "source": [
    "***For Loop***"
   ]
  },
  {
   "cell_type": "code",
   "execution_count": null,
   "metadata": {},
   "outputs": [],
   "source": [
    "a_list_of_things = [\"car\", \"plane\", \"phone\", \"cat\"]\n",
    "print(a_list_of_things)"
   ]
  },
  {
   "cell_type": "code",
   "execution_count": null,
   "metadata": {},
   "outputs": [],
   "source": [
    "print(a_list_of_things[0])"
   ]
  },
  {
   "cell_type": "code",
   "execution_count": null,
   "metadata": {},
   "outputs": [],
   "source": [
    "print(a_list_of_things[0])\n",
    "print(a_list_of_things[1])\n",
    "print(a_list_of_things[2])\n",
    "print(a_list_of_things[3])"
   ]
  },
  {
   "cell_type": "code",
   "execution_count": null,
   "metadata": {},
   "outputs": [],
   "source": [
    "for thing in a_list_of_things:\n",
    "    print(thing)"
   ]
  },
  {
   "cell_type": "code",
   "execution_count": null,
   "metadata": {},
   "outputs": [],
   "source": [
    "numbers_list = list(range(1, 10))\n",
    "\n",
    "for each_number in numbers_list:\n",
    "    print(each_number)"
   ]
  },
  {
   "cell_type": "code",
   "execution_count": null,
   "metadata": {},
   "outputs": [],
   "source": [
    "sum_total = 0\n",
    "\n",
    "for each_number in numbers_list:\n",
    "\n",
    "    print(\"iteration \" + str(each_number) + \" BEFORE adding the number, our sum_total is \" + str(sum_total))\n",
    "    sum_total = sum_total + each_number\n",
    "    print(\"iteration \" + str(each_number) + \" AFTER adding the number, our sum_total is \" + str(sum_total))\n",
    "\n",
    "    "
   ]
  },
  {
   "cell_type": "markdown",
   "metadata": {},
   "source": [
    "use `range()` with `for loop`"
   ]
  },
  {
   "cell_type": "code",
   "execution_count": null,
   "metadata": {},
   "outputs": [],
   "source": [
    "for i in range(0, 5):\n",
    "    print(i)"
   ]
  },
  {
   "cell_type": "code",
   "execution_count": null,
   "metadata": {},
   "outputs": [],
   "source": [
    "for word in [\"good\", \"bad\", \"ok\"]:\n",
    "    print(word)\n"
   ]
  },
  {
   "cell_type": "markdown",
   "metadata": {},
   "source": [
    "write your own `for loop` to iterate through a `list` you create"
   ]
  },
  {
   "cell_type": "code",
   "execution_count": null,
   "metadata": {},
   "outputs": [],
   "source": []
  },
  {
   "cell_type": "markdown",
   "metadata": {},
   "source": [
    "using `for loop` with `list`"
   ]
  },
  {
   "cell_type": "code",
   "execution_count": null,
   "metadata": {},
   "outputs": [],
   "source": [
    "sentence = [\"Ava\", \"ate\", \"several\", \"cookies\"]\n",
    "\n",
    "for index in range(0, 4):\n",
    "    print(\"value \\'\" + sentence[index] + \"\\' has index \" + str(index))"
   ]
  }
 ],
 "metadata": {
  "language_info": {
   "name": "python"
  },
  "orig_nbformat": 4
 },
 "nbformat": 4,
 "nbformat_minor": 2
}
