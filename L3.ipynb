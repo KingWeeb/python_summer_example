{
 "cells": [
  {
   "cell_type": "code",
   "execution_count": 1,
   "metadata": {},
   "outputs": [],
   "source": [
    "multiline_1 = \"\"\" this is \n",
    "a\n",
    "multiline\n",
    "string\"\"\""
   ]
  },
  {
   "cell_type": "code",
   "execution_count": 6,
   "metadata": {},
   "outputs": [],
   "source": [
    "multiline_2  = \"using a \\n special char \\\\n to separate lines\""
   ]
  },
  {
   "cell_type": "code",
   "execution_count": 4,
   "metadata": {},
   "outputs": [
    {
     "name": "stdout",
     "output_type": "stream",
     "text": [
      " this is \n",
      "a\n",
      "multiline\n",
      "string\n"
     ]
    }
   ],
   "source": [
    "print(multiline_1)"
   ]
  },
  {
   "cell_type": "code",
   "execution_count": 7,
   "metadata": {},
   "outputs": [
    {
     "name": "stdout",
     "output_type": "stream",
     "text": [
      "using a \n",
      " special char \\n to separate lines\n"
     ]
    }
   ],
   "source": [
    "print(multiline_2)"
   ]
  },
  {
   "cell_type": "markdown",
   "metadata": {},
   "source": [
    "***List***"
   ]
  },
  {
   "cell_type": "code",
   "execution_count": 10,
   "metadata": {},
   "outputs": [
    {
     "name": "stdout",
     "output_type": "stream",
     "text": [
      "the type of the list 'fruits' is: <class 'list'>\n",
      "and the content of list 'fruits' are ['apple', 'orange', 'tomato', 'banana']\n"
     ]
    }
   ],
   "source": [
    "fruits = [\"apple\", \"orange\", \"tomato\", \"banana\"]\n",
    "print(f\"the type of the list 'fruits' is: {type(fruits)}\\nand the content of list 'fruits' are {fruits}\")\n"
   ]
  },
  {
   "cell_type": "markdown",
   "metadata": {},
   "source": [
    "indexing a list:  \n",
    "print out the `3rd item` in `fruits` i.e. \"tomato\""
   ]
  },
  {
   "cell_type": "code",
   "execution_count": null,
   "metadata": {},
   "outputs": [],
   "source": []
  },
  {
   "cell_type": "markdown",
   "metadata": {},
   "source": [
    "modify list"
   ]
  },
  {
   "cell_type": "code",
   "execution_count": null,
   "metadata": {},
   "outputs": [],
   "source": []
  },
  {
   "cell_type": "markdown",
   "metadata": {},
   "source": [
    "get the size of `fruits`"
   ]
  },
  {
   "cell_type": "code",
   "execution_count": null,
   "metadata": {},
   "outputs": [],
   "source": []
  },
  {
   "cell_type": "markdown",
   "metadata": {},
   "source": [
    "try out `range()` to generate a sequence of numbers"
   ]
  },
  {
   "cell_type": "code",
   "execution_count": null,
   "metadata": {},
   "outputs": [],
   "source": []
  },
  {
   "cell_type": "markdown",
   "metadata": {},
   "source": [
    "Slicing"
   ]
  },
  {
   "cell_type": "code",
   "execution_count": null,
   "metadata": {},
   "outputs": [],
   "source": []
  },
  {
   "cell_type": "markdown",
   "metadata": {},
   "source": [
    "create a list that contains different types of values"
   ]
  },
  {
   "cell_type": "code",
   "execution_count": null,
   "metadata": {},
   "outputs": [],
   "source": []
  },
  {
   "cell_type": "code",
   "execution_count": null,
   "metadata": {
    "id": "YCHzCIDqZpSh"
   },
   "outputs": [],
   "source": [
    "import random\n",
    "random.randint(0,5)"
   ]
  },
  {
   "cell_type": "code",
   "execution_count": null,
   "metadata": {
    "id": "wB7ZJUpSZpmw"
   },
   "outputs": [],
   "source": [
    "random.randint(0,5)"
   ]
  },
  {
   "cell_type": "code",
   "execution_count": null,
   "metadata": {
    "id": "VKppQXzVZpz5"
   },
   "outputs": [],
   "source": [
    "import random\n",
    "random.random() "
   ]
  },
  {
   "cell_type": "code",
   "execution_count": null,
   "metadata": {
    "id": "CnE6L3TJZp-n"
   },
   "outputs": [],
   "source": [
    "import random\n",
    "random.random() * 100"
   ]
  },
  {
   "cell_type": "code",
   "execution_count": null,
   "metadata": {
    "id": "hjYoa8SbZwZt"
   },
   "outputs": [],
   "source": [
    "random.choice( ['red', 'black', 'green'] )"
   ]
  },
  {
   "cell_type": "code",
   "execution_count": null,
   "metadata": {
    "id": "4IdHT52pZwjF"
   },
   "outputs": [],
   "source": [
    "random.choice( ['Paper', 'Rock', 'Scissors'] )"
   ]
  },
  {
   "cell_type": "code",
   "execution_count": null,
   "metadata": {
    "id": "S47VadIuZwq5"
   },
   "outputs": [],
   "source": [
    "import random\n",
    "myList = [2, 109, False, 10, \"Lorem\", 482, \"Ipsum\"]\n",
    "random.choice(myList)"
   ]
  },
  {
   "cell_type": "code",
   "execution_count": null,
   "metadata": {
    "id": "7ZatDNmEZw1i"
   },
   "outputs": [],
   "source": [
    "#import the module \"random\" here \n",
    "#generate a random number from 0 to 2\n",
    "#create a new variable and store the generated number \n",
    "#print out the stored random number using print()\n",
    "\n",
    "import random\n",
    "x = random.randint(0,2)\n",
    "print(x) "
   ]
  },
  {
   "cell_type": "markdown",
   "metadata": {
    "id": "uctMz4W1XTW9"
   },
   "source": [
    "Random Number Generator"
   ]
  },
  {
   "cell_type": "code",
   "execution_count": null,
   "metadata": {
    "id": "DEbTWfpjXSbq"
   },
   "outputs": [],
   "source": [
    "#import the module \"random\" here\n",
    "\n",
    "\n",
    "#generate a random number from 0 to 2, including 0, 1, 2\n",
    "\n",
    "\n",
    "#create a new variable and store the generated number\n",
    "\n",
    "\n",
    "#print out the stored random number using print()"
   ]
  },
  {
   "cell_type": "markdown",
   "metadata": {
    "id": "EHM0PL3pYzRN"
   },
   "source": [
    "now create your own random number Generator that generates a random number between 5 and 85"
   ]
  },
  {
   "cell_type": "code",
   "execution_count": null,
   "metadata": {
    "id": "AAb7xYdlYzqH"
   },
   "outputs": [],
   "source": [
    "#import the module \"random\" here\n",
    "\n",
    "\n",
    "#generate a random number from 5 to 85\n",
    "\n",
    "\n",
    "#create a new variable and store the generated number\n",
    "\n",
    "\n",
    "#print out the stored random number using print()"
   ]
  }
 ],
 "metadata": {
  "kernelspec": {
   "display_name": "Python 3.9.12 ('base')",
   "language": "python",
   "name": "python3"
  },
  "language_info": {
   "codemirror_mode": {
    "name": "ipython",
    "version": 3
   },
   "file_extension": ".py",
   "mimetype": "text/x-python",
   "name": "python",
   "nbconvert_exporter": "python",
   "pygments_lexer": "ipython3",
   "version": "3.9.12"
  },
  "orig_nbformat": 4,
  "vscode": {
   "interpreter": {
    "hash": "f5b25e052352d0ab52b06d8a00db09f6214527cdbdbadfe2118ce5f5b02aba80"
   }
  }
 },
 "nbformat": 4,
 "nbformat_minor": 2
}
